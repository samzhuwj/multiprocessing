{
 "cells": [
  {
   "cell_type": "code",
   "execution_count": 1,
   "metadata": {},
   "outputs": [
    {
     "name": "stdout",
     "output_type": "stream",
     "text": [
      "10 doubled to 20 by process id: 94077\n",
      "20 doubled to 40 by process id: 94079\n",
      "5 doubled to 10 by process id: 94076\n",
      "25 doubled to 50 by process id: 94080\n",
      "15 doubled to 30 by process id: 94078\n"
     ]
    }
   ],
   "source": [
    "import os\n",
    " \n",
    "from multiprocessing import Process\n",
    " \n",
    "def doubler(number):\n",
    "    \"\"\"\n",
    "    A doubling function that can be used by a process\n",
    "    \"\"\"\n",
    "    result = number * 2\n",
    "    proc = os.getpid()\n",
    "    print('{0} doubled to {1} by process id: {2}'.format(\n",
    "        number, result, proc))\n",
    " \n",
    "if __name__ == '__main__':\n",
    "    numbers = [5, 10, 15, 20, 25]\n",
    "    procs = []\n",
    " \n",
    "    for index, number in enumerate(numbers):\n",
    "        proc = Process(target=doubler, args=(number,))\n",
    "        procs.append(proc)\n",
    "        proc.start()\n",
    " \n",
    "    for proc in procs:\n",
    "        proc.join()\n"
   ]
  },
  {
   "cell_type": "code",
   "execution_count": 2,
   "metadata": {},
   "outputs": [
    {
     "name": "stdout",
     "output_type": "stream",
     "text": [
      "5 doubled to 10 by: Process-7\n",
      "10 doubled to 20 by: Process-8\n",
      "15 doubled to 30 by: Process-9\n",
      "25 doubled to 50 by: Process-11\n",
      "20 doubled to 40 by: Process-10\n",
      "2 doubled to 4 by: Test\n"
     ]
    }
   ],
   "source": [
    "import os\n",
    " \n",
    "from multiprocessing import Process, current_process\n",
    " \n",
    " \n",
    "def doubler(number):\n",
    "    \"\"\"\n",
    "    A doubling function that can be used by a process\n",
    "    \"\"\"\n",
    "    result = number * 2\n",
    "    proc_name = current_process().name\n",
    "    print('{0} doubled to {1} by: {2}'.format(\n",
    "        number, result, proc_name))\n",
    " \n",
    " \n",
    "if __name__ == '__main__':\n",
    "    numbers = [5, 10, 15, 20, 25]\n",
    "    procs = []\n",
    "    proc = Process(target=doubler, args=(5,))\n",
    " \n",
    "    for index, number in enumerate(numbers):\n",
    "        proc = Process(target=doubler, args=(number,))\n",
    "        procs.append(proc)\n",
    "        proc.start()\n",
    " \n",
    "    proc = Process(target=doubler, name='Test', args=(2,))\n",
    "    proc.start()\n",
    "    procs.append(proc)\n",
    " \n",
    "    for proc in procs:\n",
    "        proc.join()"
   ]
  },
  {
   "cell_type": "code",
   "execution_count": 3,
   "metadata": {},
   "outputs": [
    {
     "name": "stdout",
     "output_type": "stream",
     "text": [
      "tango\n",
      "foxtrot\n",
      "10\n"
     ]
    }
   ],
   "source": [
    "from multiprocessing import Process, Lock\n",
    " \n",
    " \n",
    "def printer(item, lock):\n",
    "    \"\"\"\n",
    "    Prints out the item that was passed in\n",
    "    \"\"\"\n",
    "    lock.acquire()\n",
    "    try:\n",
    "        print(item)\n",
    "    finally:\n",
    "        lock.release()\n",
    " \n",
    "if __name__ == '__main__':\n",
    "    lock = Lock()\n",
    "    items = ['tango', 'foxtrot', 10]\n",
    "    for item in items:\n",
    "        p = Process(target=printer, args=(item, lock))\n",
    "        p.start()"
   ]
  },
  {
   "cell_type": "code",
   "execution_count": 4,
   "metadata": {},
   "outputs": [
    {
     "name": "stderr",
     "output_type": "stream",
     "text": [
      "[INFO/Process-16] child process calling self.run()\n",
      "[INFO/Process-17] child process calling self.run()\n"
     ]
    },
    {
     "name": "stdout",
     "output_type": "stream",
     "text": [
      "tango\n"
     ]
    },
    {
     "name": "stderr",
     "output_type": "stream",
     "text": [
      "[INFO/Process-18] child process calling self.run()\n"
     ]
    },
    {
     "name": "stdout",
     "output_type": "stream",
     "text": [
      "foxtrot\n"
     ]
    },
    {
     "name": "stderr",
     "output_type": "stream",
     "text": [
      "[INFO/Process-16] process shutting down\n",
      "[INFO/Process-17] process shutting down\n",
      "[INFO/Process-16] process exiting with exitcode 0\n"
     ]
    },
    {
     "name": "stdout",
     "output_type": "stream",
     "text": [
      "10\n"
     ]
    },
    {
     "name": "stderr",
     "output_type": "stream",
     "text": [
      "[INFO/Process-18] process shutting down\n",
      "[INFO/Process-17] process exiting with exitcode 0\n",
      "[INFO/Process-18] process exiting with exitcode 0\n"
     ]
    }
   ],
   "source": [
    "import logging\n",
    "import multiprocessing\n",
    " \n",
    "from multiprocessing import Process, Lock\n",
    " \n",
    "def printer(item, lock):\n",
    "    \"\"\"\n",
    "    Prints out the item that was passed in\n",
    "    \"\"\"\n",
    "    lock.acquire()\n",
    "    try:\n",
    "        print(item)\n",
    "    finally:\n",
    "        lock.release()\n",
    " \n",
    "if __name__ == '__main__':\n",
    "    lock = Lock()\n",
    "    items = ['tango', 'foxtrot', 10]\n",
    "    multiprocessing.log_to_stderr()\n",
    "    logger = multiprocessing.get_logger()\n",
    "    logger.setLevel(logging.INFO)\n",
    "    for item in items:\n",
    "        p = Process(target=printer, args=(item, lock))\n",
    "        p.start()\n"
   ]
  },
  {
   "cell_type": "code",
   "execution_count": 5,
   "metadata": {},
   "outputs": [
    {
     "name": "stderr",
     "output_type": "stream",
     "text": [
      "[INFO/ForkPoolWorker-20] child process calling self.run()\n",
      "[INFO/ForkPoolWorker-19] child process calling self.run()\n",
      "[INFO/ForkPoolWorker-21] child process calling self.run()\n"
     ]
    },
    {
     "name": "stdout",
     "output_type": "stream",
     "text": [
      "[10, 20, 40]\n"
     ]
    }
   ],
   "source": [
    "from multiprocessing import Pool\n",
    " \n",
    "def doubler(number):\n",
    "    return number * 2\n",
    " \n",
    "if __name__ == '__main__':\n",
    "    numbers = [5, 10, 20]\n",
    "    pool = Pool(processes=3)\n",
    "    print(pool.map(doubler, numbers))"
   ]
  },
  {
   "cell_type": "code",
   "execution_count": 6,
   "metadata": {},
   "outputs": [
    {
     "name": "stderr",
     "output_type": "stream",
     "text": [
      "[INFO/ForkPoolWorker-22] child process calling self.run()\n",
      "[INFO/ForkPoolWorker-24] child process calling self.run()\n",
      "[INFO/ForkPoolWorker-23] child process calling self.run()\n"
     ]
    },
    {
     "name": "stdout",
     "output_type": "stream",
     "text": [
      "50\n"
     ]
    }
   ],
   "source": [
    "from multiprocessing import Pool\n",
    " \n",
    "def doubler(number):\n",
    "    return number * 2\n",
    " \n",
    "if __name__ == '__main__':\n",
    "    pool = Pool(processes=3)\n",
    "    result = pool.apply_async(doubler, (25,))\n",
    "    print(result.get(timeout=1))"
   ]
  },
  {
   "cell_type": "code",
   "execution_count": 7,
   "metadata": {},
   "outputs": [
    {
     "name": "stderr",
     "output_type": "stream",
     "text": [
      "[INFO/Process-26] child process calling self.run()\n",
      "[INFO/Process-25] child process calling self.run()\n"
     ]
    },
    {
     "name": "stdout",
     "output_type": "stream",
     "text": [
      "Creating data and putting it on the queue\n"
     ]
    },
    {
     "name": "stderr",
     "output_type": "stream",
     "text": [
      "[INFO/Process-25] process shutting down\n"
     ]
    },
    {
     "name": "stdout",
     "output_type": "stream",
     "text": [
      "data found to be processed: 5\n",
      "10\n",
      "data found to be processed: 10\n"
     ]
    },
    {
     "name": "stderr",
     "output_type": "stream",
     "text": [
      "[INFO/Process-25] process exiting with exitcode 0\n"
     ]
    },
    {
     "name": "stdout",
     "output_type": "stream",
     "text": [
      "20\n",
      "data found to be processed: 13\n",
      "26\n",
      "data found to be processed: -1\n",
      "-2\n"
     ]
    },
    {
     "name": "stderr",
     "output_type": "stream",
     "text": [
      "[INFO/Process-26] process shutting down\n",
      "[INFO/Process-26] process exiting with exitcode 0\n"
     ]
    }
   ],
   "source": [
    "from multiprocessing import Process, Queue\n",
    " \n",
    "sentinel = -1\n",
    " \n",
    "def creator(data, q):\n",
    "    \"\"\"\n",
    "    Creates data to be consumed and waits for the consumer\n",
    "    to finish processing\n",
    "    \"\"\"\n",
    "    print('Creating data and putting it on the queue')\n",
    "    for item in data:\n",
    " \n",
    "        q.put(item)\n",
    " \n",
    " \n",
    "def my_consumer(q):\n",
    "    \"\"\"\n",
    "    Consumes some data and works on it\n",
    " \n",
    "    In this case, all it does is double the input\n",
    "    \"\"\"\n",
    "    while True:\n",
    "        data = q.get()\n",
    "        print('data found to be processed: {}'.format(data))\n",
    "        processed = data * 2\n",
    "        print(processed)\n",
    " \n",
    "        if data is sentinel:\n",
    "            break\n",
    " \n",
    " \n",
    "if __name__ == '__main__':\n",
    "    q = Queue()\n",
    "    data = [5, 10, 13, -1]\n",
    "    process_one = Process(target=creator, args=(data, q))\n",
    "    process_two = Process(target=my_consumer, args=(q,))\n",
    "    process_one.start()\n",
    "    process_two.start()\n",
    " \n",
    "    q.close()\n",
    "    q.join_thread()\n",
    " \n",
    "    process_one.join()\n",
    "    process_two.join()"
   ]
  },
  {
   "cell_type": "code",
   "execution_count": null,
   "metadata": {},
   "outputs": [],
   "source": []
  }
 ],
 "metadata": {
  "kernelspec": {
   "display_name": "Python 3",
   "language": "python",
   "name": "python3"
  },
  "language_info": {
   "codemirror_mode": {
    "name": "ipython",
    "version": 3
   },
   "file_extension": ".py",
   "mimetype": "text/x-python",
   "name": "python",
   "nbconvert_exporter": "python",
   "pygments_lexer": "ipython3",
   "version": "3.6.4"
  }
 },
 "nbformat": 4,
 "nbformat_minor": 2
}
